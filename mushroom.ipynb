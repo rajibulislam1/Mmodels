{
 "cells": [
  {
   "cell_type": "code",
   "execution_count": 1,
   "id": "1106098b",
   "metadata": {},
   "outputs": [
    {
     "name": "stdout",
     "output_type": "stream",
     "text": [
      "{'uci_id': 848, 'name': 'Secondary Mushroom', 'repository_url': 'https://archive.ics.uci.edu/dataset/848/secondary+mushroom+dataset', 'data_url': 'https://archive.ics.uci.edu/static/public/848/data.csv', 'abstract': 'Dataset of simulated mushrooms for binary classification into edible and poisonous.', 'area': 'Biology', 'tasks': ['Classification'], 'characteristics': ['Tabular'], 'num_instances': 61068, 'num_features': 20, 'feature_types': ['Real'], 'demographics': [], 'target_col': ['class'], 'index_col': None, 'has_missing_values': 'yes', 'missing_values_symbol': 'NaN', 'year_of_dataset_creation': 2021, 'last_updated': 'Wed Apr 10 2024', 'dataset_doi': '10.24432/C5FP5Q', 'creators': ['Dennis Wagner', 'D. Heider', 'Georges Hattab'], 'intro_paper': {'ID': 259, 'type': 'NATIVE', 'title': 'Mushroom data creation, curation, and simulation to support classification tasks', 'authors': 'Dennis Wagner, D. Heider, Georges Hattab', 'venue': 'Scientific Reports', 'year': 2021, 'journal': None, 'DOI': None, 'URL': 'https://www.semanticscholar.org/paper/336be248b6f1c5d77c3c93e89f2e19e7344b0250', 'sha': None, 'corpus': None, 'arxiv': None, 'mag': None, 'acl': None, 'pmid': None, 'pmcid': None}, 'additional_info': {'summary': 'The given information is about the Secondary Mushroom Dataset, the Primary Mushroom Dataset used for the simulation and the respective metadata can be found in the zip.\\n\\nThis dataset includes 61069 hypothetical mushrooms with caps based on 173 species (353 mushrooms\\nper species). Each mushroom is identified as definitely edible, definitely poisonous, or of\\nunknown edibility and not recommended (the latter class was combined with the poisonous class).\\n\\nThe related Python project contains a Python module secondary_data_generation.py\\nused to generate this data based on primary_data_edited.csv also found in the repository.\\nBoth nominal and metrical variables are a result of randomization.\\nThe simulated and ordered by species version is found in secondary_data_generated.csv.\\nThe randomly shuffled version is found in secondary_data_shuffled.csv.', 'purpose': 'Inspired by the Mushroom Data Set of J. Schlimmer: url:https://archive.ics.uci.edu/ml/datasets/Mushroom.', 'funded_by': None, 'instances_represent': None, 'recommended_data_splits': None, 'sensitive_data': None, 'preprocessing_description': None, 'variable_info': 'One binary class divided in edible=e and poisonous=p (with the latter one also containing mushrooms of unknown edibility).\\nTwenty remaining variables (n: nominal, m: metrical)\\n1. cap-diameter (m): float number in cm\\n2. cap-shape (n): bell=b, conical=c, convex=x, flat=f,\\nsunken=s, spherical=p, others=o\\n3. cap-surface (n): fibrous=i, grooves=g, scaly=y, smooth=s,\\nshiny=h, leathery=l, silky=k, sticky=t,\\nwrinkled=w, fleshy=e\\n4. cap-color (n): brown=n, buff=b, gray=g, green=r, pink=p,\\npurple=u, red=e, white=w, yellow=y, blue=l,\\norange=o, black=k\\n5. does-bruise-bleed (n): bruises-or-bleeding=t,no=f\\n6. gill-attachment (n): adnate=a, adnexed=x, decurrent=d, free=e,\\nsinuate=s, pores=p, none=f, unknown=?\\n7. gill-spacing (n): close=c, distant=d, none=f\\n8. gill-color (n): see cap-color + none=f\\n9. stem-height (m): float number in cm\\n10. stem-width (m): float number in mm\\n11. stem-root (n): bulbous=b, swollen=s, club=c, cup=u, equal=e,\\nrhizomorphs=z, rooted=r\\n12. stem-surface (n): see cap-surface + none=f\\n13. stem-color (n): see cap-color + none=f\\n14. veil-type (n): partial=p, universal=u\\n15. veil-color (n): see cap-color + none=f\\n16. has-ring (n): ring=t, none=f\\n17. ring-type (n): cobwebby=c, evanescent=e, flaring=r, grooved=g,\\nlarge=l, pendant=p, sheathing=s, zone=z, scaly=y, movable=m, none=f, unknown=?\\n18. spore-print-color (n): see cap color\\n19. habitat (n): grasses=g, leaves=l, meadows=m, paths=p, heaths=h,\\nurban=u, waste=w, woods=d\\n20. season (n): spring=s, summer=u, autumn=a, winter=w', 'citation': None}}\n",
      "                    name     role         type demographic description units  \\\n",
      "0                  class   Target  Categorical        None        None  None   \n",
      "1           cap-diameter  Feature   Continuous        None        None  None   \n",
      "2              cap-shape  Feature  Categorical        None        None  None   \n",
      "3            cap-surface  Feature  Categorical        None        None  None   \n",
      "4              cap-color  Feature  Categorical        None        None  None   \n",
      "5   does-bruise-or-bleed  Feature  Categorical        None        None  None   \n",
      "6        gill-attachment  Feature  Categorical        None        None  None   \n",
      "7           gill-spacing  Feature  Categorical        None        None  None   \n",
      "8             gill-color  Feature  Categorical        None        None  None   \n",
      "9            stem-height  Feature   Continuous        None        None  None   \n",
      "10            stem-width  Feature   Continuous        None        None  None   \n",
      "11             stem-root  Feature  Categorical        None        None  None   \n",
      "12          stem-surface  Feature  Categorical        None        None  None   \n",
      "13            stem-color  Feature  Categorical        None        None  None   \n",
      "14             veil-type  Feature  Categorical        None        None  None   \n",
      "15            veil-color  Feature  Categorical        None        None  None   \n",
      "16              has-ring  Feature  Categorical        None        None  None   \n",
      "17             ring-type  Feature  Categorical        None        None  None   \n",
      "18     spore-print-color  Feature  Categorical        None        None  None   \n",
      "19               habitat  Feature  Categorical        None        None  None   \n",
      "20                season  Feature  Categorical        None        None  None   \n",
      "\n",
      "   missing_values  \n",
      "0              no  \n",
      "1              no  \n",
      "2              no  \n",
      "3             yes  \n",
      "4              no  \n",
      "5              no  \n",
      "6             yes  \n",
      "7             yes  \n",
      "8              no  \n",
      "9              no  \n",
      "10             no  \n",
      "11            yes  \n",
      "12            yes  \n",
      "13             no  \n",
      "14            yes  \n",
      "15            yes  \n",
      "16             no  \n",
      "17            yes  \n",
      "18            yes  \n",
      "19             no  \n",
      "20             no  \n"
     ]
    }
   ],
   "source": [
    "from ucimlrepo import fetch_ucirepo \n",
    "  \n",
    "# fetch dataset \n",
    "secondary_mushroom = fetch_ucirepo(id=848) \n",
    "  \n",
    "# data (as pandas dataframes) \n",
    "X = secondary_mushroom.data.features \n",
    "y = secondary_mushroom.data.targets \n",
    "  \n",
    "# metadata \n",
    "print(secondary_mushroom.metadata) \n",
    "  \n",
    "# variable information \n",
    "print(secondary_mushroom.variables) \n"
   ]
  }
 ],
 "metadata": {
  "kernelspec": {
   "display_name": "ML (3.11.13)",
   "language": "python",
   "name": "python3"
  },
  "language_info": {
   "codemirror_mode": {
    "name": "ipython",
    "version": 3
   },
   "file_extension": ".py",
   "mimetype": "text/x-python",
   "name": "python",
   "nbconvert_exporter": "python",
   "pygments_lexer": "ipython3",
   "version": "3.11.13"
  }
 },
 "nbformat": 4,
 "nbformat_minor": 5
}
