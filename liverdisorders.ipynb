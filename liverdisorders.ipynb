{
 "cells": [
  {
   "cell_type": "code",
   "execution_count": 1,
   "id": "be54f31c",
   "metadata": {},
   "outputs": [
    {
     "name": "stdout",
     "output_type": "stream",
     "text": [
      "Hello World!\n"
     ]
    }
   ],
   "source": [
    "print('Hello World!')"
   ]
  },
  {
   "cell_type": "code",
   "execution_count": 2,
   "id": "f28a9e5a",
   "metadata": {},
   "outputs": [
    {
     "name": "stdout",
     "output_type": "stream",
     "text": [
      "{'uci_id': 60, 'name': 'Liver Disorders', 'repository_url': 'https://archive.ics.uci.edu/dataset/60/liver+disorders', 'data_url': 'https://archive.ics.uci.edu/static/public/60/data.csv', 'abstract': 'BUPA Medical Research Ltd. database donated by Richard S. Forsyth', 'area': 'Health and Medicine', 'tasks': ['Regression'], 'characteristics': ['Multivariate'], 'num_instances': 345, 'num_features': 5, 'feature_types': ['Categorical', 'Integer', 'Real'], 'demographics': [], 'target_col': ['drinks'], 'index_col': None, 'has_missing_values': 'no', 'missing_values_symbol': None, 'year_of_dataset_creation': 2016, 'last_updated': 'Fri Nov 03 2023', 'dataset_doi': '10.24432/C54G67', 'creators': [], 'intro_paper': None, 'additional_info': {'summary': 'The first 5 variables are all blood tests which are thought to be sensitive to liver disorders that might arise from excessive alcohol consumption. Each line in the dataset constitutes the record of a single male individual.\\n\\nImportant note: The 7th field (selector) has been widely misinterpreted in the past as a dependent variable representing presence or absence of a liver disorder. This is incorrect [1]. The 7th field was created by BUPA researchers as a train/test selector. It is not suitable as a dependent variable for classification. The dataset does not contain any variable representing presence or absence of a liver disorder. Researchers who wish to use this dataset as a classification benchmark should follow the method used in experiments by the donor (Forsyth & Rada, 1986, Machine learning: applications in expert systems and information retrieval) and others (e.g. Turney, 1995, Cost-sensitive classification: Empirical evaluation of a hybrid genetic decision tree induction algorithm), who used the 6th field (drinks), after dichotomising, as a dependent variable for classification. Because of widespread misinterpretation in the past, researchers should take care to state their method clearly.\\n', 'purpose': None, 'funded_by': None, 'instances_represent': None, 'recommended_data_splits': None, 'sensitive_data': None, 'preprocessing_description': None, 'variable_info': '1. mcv mean corpuscular volume\\n2. alkphos alkaline phosphotase\\n3. sgpt alanine aminotransferase\\n4. sgot aspartate aminotransferase\\n5. gammagt gamma-glutamyl transpeptidase\\n6. drinks number of half-pint equivalents of alcoholic beverages drunk per day\\n7. selector field created by the BUPA researchers to split the data into train/test sets', 'citation': None}}\n",
      "       name     role         type demographic  \\\n",
      "0       mcv  Feature   Continuous        None   \n",
      "1   alkphos  Feature   Continuous        None   \n",
      "2      sgpt  Feature   Continuous        None   \n",
      "3      sgot  Feature   Continuous        None   \n",
      "4   gammagt  Feature   Continuous        None   \n",
      "5    drinks   Target   Continuous        None   \n",
      "6  selector    Other  Categorical        None   \n",
      "\n",
      "                                         description units missing_values  \n",
      "0                            mean corpuscular volume  None             no  \n",
      "1                               alkaline phosphotase  None             no  \n",
      "2                           alanine aminotransferase  None             no  \n",
      "3                         aspartate aminotransferase  None             no  \n",
      "4                      gamma-glutamyl transpeptidase  None             no  \n",
      "5  number of half-pint equivalents of alcoholic b...  None             no  \n",
      "6  field created by the BUPA researchers to split...  None             no  \n"
     ]
    }
   ],
   "source": [
    "from ucimlrepo import fetch_ucirepo \n",
    "  \n",
    "# fetch dataset \n",
    "liver_disorders = fetch_ucirepo(id=60) \n",
    "  \n",
    "# data (as pandas dataframes) \n",
    "X = liver_disorders.data.features \n",
    "y = liver_disorders.data.targets \n",
    "  \n",
    "# metadata \n",
    "print(liver_disorders.metadata) \n",
    "  \n",
    "# variable information \n",
    "print(liver_disorders.variables) \n"
   ]
  },
  {
   "cell_type": "code",
   "execution_count": 4,
   "id": "bc511c42",
   "metadata": {},
   "outputs": [
    {
     "data": {
      "text/plain": [
       "(     mcv  alkphos  sgpt  sgot  gammagt\n",
       " 0     85       92    45    27       31\n",
       " 1     85       64    59    32       23\n",
       " 2     86       54    33    16       54\n",
       " 3     91       78    34    24       36\n",
       " 4     87       70    12    28       10\n",
       " ..   ...      ...   ...   ...      ...\n",
       " 340   99       75    26    24       41\n",
       " 341   96       69    53    43      203\n",
       " 342   98       77    55    35       89\n",
       " 343   91       68    27    26       14\n",
       " 344   98       99    57    45       65\n",
       " \n",
       " [345 rows x 5 columns],\n",
       "      drinks\n",
       " 0       0.0\n",
       " 1       0.0\n",
       " 2       0.0\n",
       " 3       0.0\n",
       " 4       0.0\n",
       " ..      ...\n",
       " 340    12.0\n",
       " 341    12.0\n",
       " 342    15.0\n",
       " 343    16.0\n",
       " 344    20.0\n",
       " \n",
       " [345 rows x 1 columns])"
      ]
     },
     "execution_count": 4,
     "metadata": {},
     "output_type": "execute_result"
    }
   ],
   "source": [
    "X, y"
   ]
  },
  {
   "cell_type": "code",
   "execution_count": null,
   "id": "2d677cfe",
   "metadata": {},
   "outputs": [],
   "source": []
  }
 ],
 "metadata": {
  "kernelspec": {
   "display_name": "ML (3.11.13)",
   "language": "python",
   "name": "python3"
  },
  "language_info": {
   "codemirror_mode": {
    "name": "ipython",
    "version": 3
   },
   "file_extension": ".py",
   "mimetype": "text/x-python",
   "name": "python",
   "nbconvert_exporter": "python",
   "pygments_lexer": "ipython3",
   "version": "3.11.13"
  }
 },
 "nbformat": 4,
 "nbformat_minor": 5
}
